{
 "cells": [
  {
   "cell_type": "code",
   "execution_count": 2,
   "metadata": {},
   "outputs": [
    {
     "name": "stdout",
     "output_type": "stream",
     "text": [
      "El numero 2 es mayor\n"
     ]
    }
   ],
   "source": [
    "digito1 = float(input(\"ingresa el numero 1\"))\n",
    "digito2 = float(input(\"ingresa el numero 2\"))\n",
    "if digito1>=digito2:\n",
    "    print(\"El numero 1 es mayor\")\n",
    "else:\n",
    "    print(\"El numero 2 es mayor\")\n"
   ]
  }
 ],
 "metadata": {
  "kernelspec": {
   "display_name": "Python 3",
   "language": "python",
   "name": "python3"
  },
  "language_info": {
   "codemirror_mode": {
    "name": "ipython",
    "version": 3
   },
   "file_extension": ".py",
   "mimetype": "text/x-python",
   "name": "python",
   "nbconvert_exporter": "python",
   "pygments_lexer": "ipython3",
   "version": "3.10.13"
  }
 },
 "nbformat": 4,
 "nbformat_minor": 2
}
